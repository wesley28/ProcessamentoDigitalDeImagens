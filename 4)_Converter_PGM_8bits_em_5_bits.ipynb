{
  "nbformat": 4,
  "nbformat_minor": 0,
  "metadata": {
    "colab": {
      "provenance": [],
      "authorship_tag": "ABX9TyN7K1UeM0OA+SjOLeWh8h4d",
      "include_colab_link": true
    },
    "kernelspec": {
      "name": "python3",
      "display_name": "Python 3"
    },
    "language_info": {
      "name": "python"
    }
  },
  "cells": [
    {
      "cell_type": "markdown",
      "metadata": {
        "id": "view-in-github",
        "colab_type": "text"
      },
      "source": [
        "<a href=\"https://colab.research.google.com/github/wesley28/ProcessamentoDigitalDeImagens/blob/main/4)_Converter_PGM_8bits_em_5_bits.ipynb\" target=\"_parent\"><img src=\"https://colab.research.google.com/assets/colab-badge.svg\" alt=\"Open In Colab\"/></a>"
      ]
    },
    {
      "cell_type": "code",
      "execution_count": 1,
      "metadata": {
        "id": "TvDFEpIuFxWG"
      },
      "outputs": [],
      "source": [
        "import io\n",
        "import numpy as np\n",
        "\n",
        "\n",
        "def salvar_imagem(imagem, arquivo):\n",
        "  with io.open(arquivo, \"wb\") as f:\n",
        "    f.write(imagem.tostring())\n",
        "\n",
        "class Imagem:\n",
        "\n",
        "  def __init__(self, arquivo):\n",
        "    with io.open(arquivo, \"rb\") as f:\n",
        "      self._data = f.read()\n",
        "\n",
        "    self._imagem = np.frombuffer(self._data, dtype=np.uint8)\n",
        "\n",
        "  @property\n",
        "  def imagem(self):\n",
        "\n",
        "    return self._imagem\n",
        "\n",
        "  def converter_para_5_bits(self):\n",
        "    factor = 32 / 255\n",
        "\n",
        "    imagem_convertida = np.copy(self._imagem)\n",
        "    for i in range(len(self._imagem)):\n",
        "      imagem_convertida[i] = imagem_convertida[i] * factor\n",
        "\n",
        "    # Limita os valores da imagem ao intervalo de 0 a 31.\n",
        "    imagem_convertida = np.clip(imagem_convertida, 0, 31)\n",
        "\n",
        "    return imagem_convertida"
      ]
    },
    {
      "cell_type": "code",
      "source": [
        "imagem = Imagem(\"Entrada_EscalaCinza.pgm\")\n",
        "imagem_convertida = imagem.converter_para_5_bits()\n",
        "\n",
        "# Salva a imagem convertida.\n",
        "salvar_imagem(imagem_convertida, \"Saida_EscalaCinza_5_Bits.pgm\")\n"
      ],
      "metadata": {
        "colab": {
          "base_uri": "https://localhost:8080/"
        },
        "id": "XNPKuYbNGJIE",
        "outputId": "abeb4549-158d-4bfd-ad37-ecf8d84924f3"
      },
      "execution_count": 3,
      "outputs": [
        {
          "output_type": "stream",
          "name": "stderr",
          "text": [
            "<ipython-input-1-9df318af91a9>:7: DeprecationWarning: tostring() is deprecated. Use tobytes() instead.\n",
            "  f.write(imagem.tostring())\n"
          ]
        }
      ]
    }
  ]
}