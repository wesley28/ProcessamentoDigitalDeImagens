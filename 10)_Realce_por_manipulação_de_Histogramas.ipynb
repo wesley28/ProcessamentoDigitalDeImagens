{
  "nbformat": 4,
  "nbformat_minor": 0,
  "metadata": {
    "colab": {
      "provenance": [],
      "include_colab_link": true
    },
    "kernelspec": {
      "name": "python3",
      "display_name": "Python 3"
    },
    "language_info": {
      "name": "python"
    }
  },
  "cells": [
    {
      "cell_type": "markdown",
      "metadata": {
        "id": "view-in-github",
        "colab_type": "text"
      },
      "source": [
        "<a href=\"https://colab.research.google.com/github/wesley28/ProcessamentoDigitalDeImagens/blob/main/10)_Realce_por_manipula%C3%A7%C3%A3o_de_Histogramas.ipynb\" target=\"_parent\"><img src=\"https://colab.research.google.com/assets/colab-badge.svg\" alt=\"Open In Colab\"/></a>"
      ]
    },
    {
      "cell_type": "code",
      "execution_count": null,
      "metadata": {
        "id": "DskV-Gi1CEWm"
      },
      "outputs": [],
      "source": [
        "import random\n",
        "import numpy as np\n",
        "import math\n",
        "from collections import Counter\n",
        "\n",
        "import pandas as pd\n",
        "import matplotlib.pyplot as plt\n",
        "import seaborn as sns\n",
        "plt.style.use('seaborn')\n",
        "sns.set_theme(style=\"darkgrid\")\n",
        "\n",
        "\n",
        "class ImagemBPM:\n",
        "\n",
        "  def __init__(self, tipo='', largura=0, altura=0, valor_maximo = 1, colorido=False):\n",
        "    self.tipo = tipo\n",
        "    self.largura = largura\n",
        "    self.altura = altura\n",
        "    self.valor_maximo = valor_maximo\n",
        "    self.colorido = colorido\n",
        "\n",
        "\n",
        "  def _read(self, path):\n",
        "    return open(path, \"r\").read().split('\\n')\n",
        "\n",
        "\n",
        "  def extrair_imagem(self, path, default_rgb = 0):\n",
        "    ls_imagem = self._read(path)\n",
        "\n",
        "    if self.colorido:\n",
        "      self.tipo = ls_imagem[0]\n",
        "      self.largura = int(ls_imagem[2].split()[0])\n",
        "      self.altura = int(ls_imagem[2].split()[1])\n",
        "      self.valor_maximo = int(ls_imagem[3])\n",
        "\n",
        "      conteudo = ls_imagem[5:]\n",
        "      conteudo = [i.split(' ') for i in conteudo]\n",
        "      np_conteudo = np.array(conteudo)\n",
        "      np_conteudo = np.concatenate(np_conteudo)\n",
        "      np_conteudo = np.delete(np_conteudo, np.where(np_conteudo == ''))\n",
        "      self.conteudo = [int(i) for i in np_conteudo]\n",
        "\n",
        "      lista_rgb = {\n",
        "          'red': np.array([]),\n",
        "          'green': np.array([]),\n",
        "          'blue': np.array([])\n",
        "      }\n",
        "\n",
        "      lista_rgb['red'] = np.array([self.conteudo[i] if i % 3 == 0 else default_rgb for i in range(len(self.conteudo))])\n",
        "      lista_rgb['green'] = np.array([self.conteudo[i] if i % 3 == 1 else default_rgb for i in range(len(self.conteudo))])\n",
        "      lista_rgb['blue'] = np.array([self.conteudo[i] if i % 3 == 2 else default_rgb for i in range(len(self.conteudo))])\n",
        "      self.lista_rgb = lista_rgb\n",
        "\n",
        "      lista_rgb_hist = {\n",
        "          'red': np.array([]),\n",
        "          'green': np.array([]),\n",
        "          'blue': np.array([])\n",
        "      }\n",
        "\n",
        "      lista_rgb_hist['red'] = np.array([self.conteudo[i] for i in range(len(self.conteudo)) if i % 3 == 0])\n",
        "      lista_rgb_hist['green'] = np.array([self.conteudo[i] for i in range(len(self.conteudo)) if i % 3 == 1]) # 1:0 4:1 7:2 10:3   1 3 5 7     i div 3\n",
        "      lista_rgb_hist['blue'] = np.array([self.conteudo[i] for i in range(len(self.conteudo)) if i % 3 == 2])  # 2:0 5:1 8:2 11:3   1 3 5 7     i div 3\n",
        "      self.lista_rgb_hist = lista_rgb_hist\n",
        "      self.conteudo = np.array(self.conteudo)\n",
        "\n",
        "    else:\n",
        "      self.tipo = ls_imagem[0]\n",
        "      self.largura = int(ls_imagem[1].split()[0])\n",
        "      self.altura = int(ls_imagem[1].split()[1])\n",
        "      self.valor_maximo = int(ls_imagem[2])\n",
        "      self.conteudo = np.array([int(i) if i != '' else 0 for i in ls_imagem[2 : self.altura * self.largura + 2]])\n",
        "\n",
        "\n",
        "  def gerar_hist(self, nome_arquivo, rgb=None):\n",
        "    if rgb is None:\n",
        "      self._hist(pd.Series(self.conteudo), nome_arquivo)\n",
        "\n",
        "    else:\n",
        "      self._hist(pd.Series(self.lista_rgb_hist[rgb]), nome_arquivo+'_'+rgb, rgb)\n",
        "\n",
        "\n",
        "  def _hist(self, df, nome_arquivo, cor='gray'):\n",
        "    ax = df.hist(color = cor)\n",
        "    fig = ax.get_figure()\n",
        "    fig.savefig(nome_arquivo+'.jpg')\n",
        "\n",
        "\n",
        "  def transformacao_linear(self, escala_cinza=True):\n",
        "\n",
        "    if escala_cinza:\n",
        "      self.conteudo_tranformacao_linear = self._transformacao_linear(self.conteudo)\n",
        "\n",
        "    else:\n",
        "      conteudo_tranformacao_linear_red = self._transformacao_linear(self.lista_rgb_hist['red'])\n",
        "      conteudo_tranformacao_linear_green = self._transformacao_linear(self.lista_rgb_hist['green'])\n",
        "      conteudo_tranformacao_linear_blue = self._transformacao_linear(self.lista_rgb_hist['blue'])\n",
        "\n",
        "      lt_conteudo_rgb_transformacao_linear = []\n",
        "      for i in range(len(conteudo_tranformacao_linear_red) * 3):\n",
        "        if i % 3 == 1:\n",
        "          lt_conteudo_rgb_transformacao_linear.append(conteudo_tranformacao_linear_green[i // 3])\n",
        "        elif i % 3 == 2:\n",
        "          lt_conteudo_rgb_transformacao_linear.append(conteudo_tranformacao_linear_blue[i // 3])\n",
        "        else:\n",
        "          lt_conteudo_rgb_transformacao_linear.append(conteudo_tranformacao_linear_red[i // 3])\n",
        "      self.conteudo_tranformacao_linear = np.array(lt_conteudo_rgb_transformacao_linear)\n",
        "\n",
        "  def _transformacao_linear(self, valores):\n",
        "    min_valor = min(valores)\n",
        "    max_valor = max(valores)\n",
        "    self.a = 255 / (max_valor - min_valor) # Y = x * a + b\n",
        "    self.b = -self.a * min_valor\n",
        "\n",
        "    lt_conteudo_tranformacao_linear = []\n",
        "    for vlr in self._gen_transformacao_linear(valores):\n",
        "      lt_conteudo_tranformacao_linear.append(vlr)\n",
        "    return np.array(lt_conteudo_tranformacao_linear)\n",
        "\n",
        "\n",
        "  def _gen_transformacao_linear(self, valores):\n",
        "    for vlr in valores:\n",
        "      yield round(self.a * vlr + self.b)\n",
        "\n",
        "  def _gerar_cabecalho(self):\n",
        "    return '{}\\n{} {}\\n {}\\n'.format(self.tipo, self.largura, self.altura, self.valor_maximo)\n",
        "\n",
        "\n",
        "  def salvar_imagem(self, nome, formato):\n",
        "    with open('{}.{}'.format(nome, formato), 'w') as fd:\n",
        "      fd.write(self.imagem)\n",
        "\n",
        "\n",
        "  def salvar_imagem_rgb(self, nome, formato):\n",
        "    with open('{}.{}'.format(nome+'_red', formato), 'w') as fd:\n",
        "      fd.write(self.imagem_red)\n",
        "\n",
        "    with open('{}.{}'.format(nome+'_green', formato), 'w') as fd:\n",
        "      fd.write(self.imagem_green)\n",
        "\n",
        "    with open('{}.{}'.format(nome+'_blue', formato), 'w') as fd:\n",
        "      fd.write(self.imagem_blue)\n",
        "\n",
        "\n",
        "  def gerar_imagem(\n",
        "      self, colorido = False, random = True,gerar_rgb = False, media_escala_cinza = False,\n",
        "      media_rgb=False, transformacao_linear=False):\n",
        "\n",
        "    if random:\n",
        "      cabecalho = self._gerar_cabecalho()\n",
        "      matriz = '\\n'.join([' '.join([str(random.randint(0, self.valor_maximo)) for _ in range(self.altura * 3 if colorido else self.altura)]) for _ in range(self.largura)])\n",
        "      self.imagem = cabecalho + matriz\n",
        "\n",
        "    elif gerar_rgb:\n",
        "      self.imagem_red = '{}\\n{} {}\\n{}\\n{}'.format(\n",
        "          self.tipo, self.largura, self.altura, self.valor_maximo,\n",
        "          '\\n'.join([str(i) for i in self.lista_rgb['red'].tolist()]))\n",
        "      self.imagem_green = '{}\\n{} {}\\n{}\\n{}'.format(\n",
        "          self.tipo, self.largura, self.altura, self.valor_maximo,\n",
        "          '\\n'.join([str(i) for i in self.lista_rgb['green'].tolist()]))\n",
        "      self.imagem_blue = '{}\\n{} {}\\n{}\\n{}'.format(\n",
        "          self.tipo, self.largura, self.altura, self.valor_maximo,\n",
        "          '\\n'.join([str(i) for i in self.lista_rgb['blue'].tolist()]))\n",
        "\n",
        "    elif transformacao_linear:\n",
        "      self.imagem = '{}\\n{} {}\\n{}\\n{}'.format(\n",
        "          self.tipo, self.largura, self.altura, self.valor_maximo,\n",
        "          '\\n'.join([str(i) for i in self.conteudo_tranformacao_linear.tolist()]))\n",
        "\n",
        "    else:\n",
        "      self.imagem = '{}\\n{} {}\\n{}'.format(\n",
        "          self.tipo, self.largura, self.altura,\n",
        "          '\\n'.join([str(i) for i in self.conteudo.tolist()]))\n"
      ]
    },
    {
      "cell_type": "markdown",
      "source": [
        "## Histogramas"
      ],
      "metadata": {
        "id": "eKNKdf_fFRLi"
      }
    },
    {
      "cell_type": "code",
      "source": [
        "t1 = ImagemBPM()\n",
        "t1.extrair_imagem(\"/content/escala_cinza_transformacao_linear.txt\")\n",
        "t1.gerar_hist('escala_cinza')"
      ],
      "metadata": {
        "id": "jY0Yfz9GFURY",
        "colab": {
          "base_uri": "https://localhost:8080/",
          "height": 493
        },
        "outputId": "93c897ef-8842-44b4-96ce-d90d62964e00"
      },
      "execution_count": 13,
      "outputs": [
        {
          "output_type": "display_data",
          "data": {
            "text/plain": [
              "<Figure size 800x550 with 1 Axes>"
            ],
            "image/png": "[encoded data removed]"
          },
          "metadata": {}
        }
      ]
    },
    {
      "cell_type": "code",
      "source": [
        "t1 = ImagemBPM(colorido=True)\n",
        "t1.extrair_imagem(\"/content/entrada_rgb_transformacao_linear.txt\")\n",
        "t1.gerar_hist('rgb', rgb='red')"
      ],
      "metadata": {
        "id": "IH8MLgetLqz5",
        "colab": {
          "base_uri": "https://localhost:8080/",
          "height": 548
        },
        "outputId": "146a0650-8a46-4fd2-897f-6ad85014267c"
      },
      "execution_count": 18,
      "outputs": [
        {
          "output_type": "stream",
          "name": "stderr",
          "text": [
            "<ipython-input-1-fb64d1cee72b>:38: VisibleDeprecationWarning: Creating an ndarray from ragged nested sequences (which is a list-or-tuple of lists-or-tuples-or ndarrays with different lengths or shapes) is deprecated. If you meant to do this, you must specify 'dtype=object' when creating the ndarray.\n",
            "  np_conteudo = np.array(conteudo)\n"
          ]
        },
        {
          "output_type": "display_data",
          "data": {
            "text/plain": [
              "<Figure size 800x550 with 1 Axes>"
            ],
            "image/png": "[encoded data removed]"
          },
          "metadata": {}
        }
      ]
    },
    {
      "cell_type": "code",
      "source": [
        "t1.gerar_hist('rgb', rgb='green')"
      ],
      "metadata": {
        "id": "QcrhdYHzQkdI"
      },
      "execution_count": null,
      "outputs": []
    },
    {
      "cell_type": "code",
      "source": [
        "t1.gerar_hist('rgb', rgb='blue')"
      ],
      "metadata": {
        "id": "N5sEmx3fQmut"
      },
      "execution_count": null,
      "outputs": []
    },
    {
      "cell_type": "code",
      "source": [
        "t1 = ImagemBPM()\n",
        "t1.extrair_imagem(\"/content/Entrada_EscalaCinza.txt\")\n",
        "t1.transformacao_linear()\n",
        "t1.gerar_imagem(random=False, transformacao_linear=True)\n",
        "t1.salvar_imagem('escala_cinza_transformacao_linear', 'pgm')"
      ],
      "metadata": {
        "id": "a8F3cRuCrCu1"
      },
      "execution_count": 2,
      "outputs": []
    },
    {
      "cell_type": "code",
      "source": [
        "t1 = ImagemBPM(colorido=True)\n",
        "t1.extrair_imagem(\"/content/EntradaRGB.txt\")\n",
        "t1.transformacao_linear(escala_cinza=False)\n",
        "t1.gerar_imagem(random=False, transformacao_linear=True)\n",
        "t1.salvar_imagem('entrada_rgb_transformacao_linear', 'pgm')"
      ],
      "metadata": {
        "id": "LK8a1N1u67t-"
      },
      "execution_count": null,
      "outputs": []
    },
    {
      "cell_type": "code",
      "source": [
        "len(t1.conteudo_tranformacao_linear)"
      ],
      "metadata": {
        "colab": {
          "base_uri": "https://localhost:8080/"
        },
        "id": "hFxpxHI_8I4w",
        "outputId": "21f686ed-94f0-4576-c33b-9520caf28902"
      },
      "execution_count": 4,
      "outputs": [
        {
          "output_type": "execute_result",
          "data": {
            "text/plain": [
              "1920000"
            ]
          },
          "metadata": {},
          "execution_count": 4
        }
      ]
    },
    {
      "cell_type": "code",
      "source": [
        "min_valor = min(t1.conteudo)\n",
        "max_valor = max(t1.conteudo)\n",
        "# max 255    min 13     y = aX + b   conteudo_tranformacao_linear\n",
        "a = 255 / (max_valor - min_valor)\n",
        "b = -a * min_valor\n",
        "a, b\n"
      ],
      "metadata": {
        "colab": {
          "base_uri": "https://localhost:8080/"
        },
        "id": "MrQ1KYC7rb5H",
        "outputId": "8e934d99-1cdd-4b00-bd5b-03bee404ff21"
      },
      "execution_count": 5,
      "outputs": [
        {
          "output_type": "execute_result",
          "data": {
            "text/plain": [
              "(1.0365853658536586, -9.329268292682928)"
            ]
          },
          "metadata": {},
          "execution_count": 5
        }
      ]
    }
  ]
}