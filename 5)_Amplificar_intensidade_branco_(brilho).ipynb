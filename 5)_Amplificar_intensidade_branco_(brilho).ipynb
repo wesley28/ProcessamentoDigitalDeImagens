{
  "nbformat": 4,
  "nbformat_minor": 0,
  "metadata": {
    "colab": {
      "provenance": [],
      "authorship_tag": "ABX9TyN7aBcOeCtx773fvMZdPXeJ",
      "include_colab_link": true
    },
    "kernelspec": {
      "name": "python3",
      "display_name": "Python 3"
    },
    "language_info": {
      "name": "python"
    }
  },
  "cells": [
    {
      "cell_type": "markdown",
      "metadata": {
        "id": "view-in-github",
        "colab_type": "text"
      },
      "source": [
        "<a href=\"https://colab.research.google.com/github/wesley28/ProcessamentoDigitalDeImagens/blob/main/5)_Amplificar_intensidade_branco_(brilho).ipynb\" target=\"_parent\"><img src=\"https://colab.research.google.com/assets/colab-badge.svg\" alt=\"Open In Colab\"/></a>"
      ]
    },
    {
      "cell_type": "code",
      "execution_count": 1,
      "metadata": {
        "id": "TvDFEpIuFxWG"
      },
      "outputs": [],
      "source": [
        "import io\n",
        "import numpy as np\n",
        "\n",
        "\n",
        "def salvar_imagem(imagem, arquivo):\n",
        "  with io.open(arquivo, \"wb\") as f:\n",
        "    f.write(imagem.tostring())\n",
        "\n",
        "class Imagem:\n",
        "\n",
        "  def __init__(self, arquivo):\n",
        "    with io.open(arquivo, \"rb\") as f:\n",
        "      self._data = f.read()\n",
        "\n",
        "    self._imagem = np.frombuffer(self._data, dtype=np.uint8)\n",
        "\n",
        "  @property\n",
        "  def imagem(self):\n",
        "\n",
        "    return self._imagem\n",
        "\n",
        "  def converter_para_5_bits(self):\n",
        "    factor = 32 / 255\n",
        "\n",
        "    imagem_convertida = np.copy(self._imagem)\n",
        "    for i in range(len(self._imagem)):\n",
        "      imagem_convertida[i] = imagem_convertida[i] * factor\n",
        "\n",
        "    # Limita os valores da imagem ao intervalo de 0 a 31.\n",
        "    imagem_convertida = np.clip(imagem_convertida, 0, 31)\n",
        "\n",
        "    return imagem_convertida"
      ]
    },
    {
      "cell_type": "code",
      "source": [
        "imagem = Imagem(\"Entrada_EscalaCinza.pgm\")\n",
        "imagem_convertida = imagem.converter_para_5_bits()\n",
        "\n",
        "# Salva a imagem convertida.\n",
        "salvar_imagem(imagem_convertida, \"Saida_EscalaCinza_5_Bits.pgm\")\n"
      ],
      "metadata": {
        "id": "XNPKuYbNGJIE"
      },
      "execution_count": null,
      "outputs": []
    },
    {
      "cell_type": "code",
      "source": [
        "imagem = Imagem(\"Entrada_EscalaCinza.pgm\")\n",
        "imagem_convertida = imagem.converter_para_5_bits()\n",
        "\n",
        "ganho_brilho = 1.2\n",
        "imagem_com_ganho = np.copy(imagem_convertida)\n",
        "for i in range(len(imagem_com_ganho)):\n",
        "  imagem_com_ganho[i] = imagem_com_ganho[i] * ganho_brilho\n",
        "\n",
        "salvar_imagem(imagem_com_ganho, \"Saida_EscalaCinza_5_Bits_Ganho_20.pgm\")"
      ],
      "metadata": {
        "id": "Gb6lS8OgI1Kc"
      },
      "execution_count": null,
      "outputs": []
    }
  ]
}