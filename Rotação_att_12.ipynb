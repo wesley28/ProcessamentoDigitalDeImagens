{
  "nbformat": 4,
  "nbformat_minor": 0,
  "metadata": {
    "colab": {
      "provenance": [],
      "authorship_tag": "ABX9TyOAJQH9PriLCC6dIeelhE43",
      "include_colab_link": true
    },
    "kernelspec": {
      "name": "python3",
      "display_name": "Python 3"
    },
    "language_info": {
      "name": "python"
    }
  },
  "cells": [
    {
      "cell_type": "markdown",
      "metadata": {
        "id": "view-in-github",
        "colab_type": "text"
      },
      "source": [
        "<a href=\"https://colab.research.google.com/github/wesley28/ProcessamentoDigitalDeImagens/blob/main/Rota%C3%A7%C3%A3o_att_12.ipynb\" target=\"_parent\"><img src=\"https://colab.research.google.com/assets/colab-badge.svg\" alt=\"Open In Colab\"/></a>"
      ]
    },
    {
      "cell_type": "code",
      "execution_count": null,
      "metadata": {
        "id": "rC3gjYoOscj4"
      },
      "outputs": [],
      "source": [
        "class ResizeImage:\n",
        "\n",
        "  def __init__(self, path):\n",
        "    self.path = path\n",
        "    self.image = Image.open(path)\n",
        "    self.new_image = None\n",
        "\n",
        "\n",
        "  def resize(self, width, height):\n",
        "    self.new_image = self.image.resize((width, height), Image.ANTIALIAS)\n",
        "\n",
        "\n",
        "  def rotate(self, angle):\n",
        "    return self.image.rotate(angle)\n",
        "\n",
        "\n",
        "  def factor_resize(self, factor, grow=False):\n",
        "    mult = factor if grow else 1 / factor\n",
        "    width, height = self.image.size\n",
        "    self.new_image = self.image.resize((round(width * mult), round(height * mult)), Image.ANTIALIAS)\n",
        "\n",
        "\n",
        "  def save(self, file_name):\n",
        "    assert self.new_image is not None, 'Para salvar a imagem, é necessário fazer o redimensionamento antes.'\n",
        "    self.new_image.save(file_name + \".jpg\", quality=95)\n",
        "\n",
        "\n",
        "  def save_rotate(self, image, file_name):\n",
        "    image.save(file_name + \".jpg\")\n",
        "\n",
        "\n",
        "  @staticmethod\n",
        "  def get_size(image):\n",
        "    return image.size"
      ]
    },
    {
      "cell_type": "markdown",
      "source": [
        "# **Rotação**\n",
        "\n",
        "\n",
        "---\n",
        "\n",
        "\n",
        "\n"
      ],
      "metadata": {
        "id": "Th2EQrRLyQta"
      }
    },
    {
      "cell_type": "code",
      "source": [
        "PATH = '/content/cafe.jfif'\n",
        "ri = ResizeImage(PATH)\n",
        "ri.save_rotate(ri.rotate(90), 'cafe_90')\n",
        "ri.save_rotate(ri.rotate(180), 'cafe_180')"
      ],
      "metadata": {
        "id": "_9JFOW8lsie1"
      },
      "execution_count": null,
      "outputs": []
    }
  ]
}