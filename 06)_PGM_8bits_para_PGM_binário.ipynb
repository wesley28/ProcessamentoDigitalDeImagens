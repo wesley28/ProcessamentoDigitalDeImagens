{
  "nbformat": 4,
  "nbformat_minor": 0,
  "metadata": {
    "colab": {
      "provenance": [],
      "include_colab_link": true
    },
    "kernelspec": {
      "name": "python3",
      "display_name": "Python 3"
    },
    "language_info": {
      "name": "python"
    }
  },
  "cells": [
    {
      "cell_type": "markdown",
      "metadata": {
        "id": "view-in-github",
        "colab_type": "text"
      },
      "source": [
        "<a href=\"https://colab.research.google.com/github/wesley28/ProcessamentoDigitalDeImagens/blob/main/06)_PGM_8bits_para_PGM_bin%C3%A1rio.ipynb\" target=\"_parent\"><img src=\"https://colab.research.google.com/assets/colab-badge.svg\" alt=\"Open In Colab\"/></a>"
      ]
    },
    {
      "cell_type": "code",
      "execution_count": null,
      "metadata": {
        "id": "GdouWr69_fNp"
      },
      "outputs": [],
      "source": [
        "import random\n",
        "import numpy as np\n",
        "import math\n",
        "from collections import Counter\n",
        "\n",
        "\n",
        "class ImagemBPM:\n",
        "\n",
        "  def __init__(self, tipo='', largura=0, altura=0, valor_maximo = 1, colorido=False):\n",
        "    self.tipo = tipo\n",
        "    self.largura = largura\n",
        "    self.altura = altura\n",
        "    self.valor_maximo = valor_maximo\n",
        "    self.colorido = colorido\n",
        "\n",
        "    if colorido:\n",
        "      self.vlr_binario_max = 255\n",
        "\n",
        "    else:\n",
        "      self.vlr_binario_max = 1\n",
        "\n",
        "\n",
        "  def _read(self, path):\n",
        "    return open(path, \"r\").read().split('\\n')\n",
        "\n",
        "\n",
        "  def extrair_imagem(self, path):\n",
        "    ls_imagem = self._read(path)\n",
        "\n",
        "    if self.colorido:\n",
        "      self.tipo = ls_imagem[0]\n",
        "      self.largura = int(ls_imagem[2].split()[0])\n",
        "      self.altura = int(ls_imagem[2].split()[1])\n",
        "      self.valor_maximo = int(ls_imagem[3])\n",
        "\n",
        "      conteudo = ls_imagem[5:]\n",
        "      conteudo = [i.split(' ') for i in conteudo]\n",
        "      np_conteudo = np.array(conteudo)\n",
        "      np_conteudo = np.concatenate(np_conteudo)\n",
        "      np_conteudo = np.delete(np_conteudo, np.where(np_conteudo == ''))\n",
        "      self.conteudo = [int(i) for i in np_conteudo]\n",
        "\n",
        "    else:\n",
        "      self.tipo = ls_imagem[0]\n",
        "      self.largura = int(ls_imagem[1].split()[0])\n",
        "      self.altura = int(ls_imagem[1].split()[1])\n",
        "      self.valor_maximo = int(ls_imagem[2])\n",
        "      self.conteudo = np.array([int(i) if i != '' else 0 for i in ls_imagem[2 : self.altura * self.largura + 2]])\n",
        "\n",
        "\n",
        "\n",
        "  def conversao_binaria(self, limiar):\n",
        "    self.limiar = limiar\n",
        "    conteudo_binario = []\n",
        "    for vlr_binario in self._gen_conversao_binaria(self.conteudo):\n",
        "      conteudo_binario.append(vlr_binario)\n",
        "    self.conteudo = conteudo_binario\n",
        "    self.valor_maximo = self.vlr_binario_max\n",
        "\n",
        "\n",
        "  def _gen_conversao_binaria(self, ls_conteudo):\n",
        "    for valores in ls_conteudo:\n",
        "      if valores <= self.limiar:\n",
        "        yield 0\n",
        "      else:\n",
        "        yield self.vlr_binario_max\n",
        "\n",
        "\n",
        "  def conversao_negativo(self):\n",
        "    conteudo_negativo = []\n",
        "    for vlr_negativo in self._gen_conversao_negativo(self.conteudo):\n",
        "      conteudo_negativo.append(vlr_negativo)\n",
        "    self.conteudo = conteudo_negativo\n",
        "\n",
        "\n",
        "  def _gen_conversao_negativo(self, ls_conteudo):\n",
        "    for valores in ls_conteudo:\n",
        "      if valores == 0:\n",
        "        yield self.vlr_binario_max\n",
        "      else:\n",
        "        yield 0\n",
        "\n",
        "\n",
        "  def _gerar_cabecalho(self):\n",
        "    return '{}\\n{} {}\\n {}\\n'.format(self.tipo, self.largura, self.altura, self.valor_maximo)\n",
        "\n",
        "\n",
        "  def salvar_imagem(self, nome, formato):\n",
        "    with open('{}.{}'.format(nome, formato), 'w') as fd:\n",
        "      fd.write(self.imagem)\n",
        "\n",
        "\n",
        "  def gerar_imagem(self):\n",
        "      self.imagem = '{} \\n{} {} \\n{} \\n{}'.format(\n",
        "          self.tipo, self.largura, self.altura, self.valor_maximo,\n",
        "          '\\n'.join([str(i) + ' ' for i in self.conteudo]))\n",
        ""
      ]
    },
    {
      "cell_type": "code",
      "source": [
        "t1 = ImagemBPM()\n",
        "t1.extrair_imagem(\"/content/Entrada_EscalaCinza.txt\")\n",
        "t1.conversao_binaria(128)\n",
        "t1.gerar_imagem()\n",
        "t1.salvar_imagem('img_cinza_para_preto_branco', 'pgm')\n",
        "\n",
        "t1.conversao_negativo()\n",
        "t1.gerar_imagem()\n",
        "t1.salvar_imagem('img_preto_branco_negativo', 'pgm')"
      ],
      "metadata": {
        "id": "gP8UcBX3_qpL"
      },
      "execution_count": null,
      "outputs": []
    },
    {
      "cell_type": "code",
      "source": [
        "t2 = ImagemBPM(colorido=True)\n",
        "t2.extrair_imagem(\"/content/Entrada_RGB.txt\")\n",
        "print(t2.conteudo)\n",
        "t2.conversao_binaria(128)\n",
        "t2.gerar_imagem()\n",
        "t2.salvar_imagem('img_rgb_para_preto_branco', 'pgm')\n",
        "\n",
        "t2.conversao_negativo()\n",
        "t2.gerar_imagem()\n",
        "t2.salvar_imagem('img_rgb_preto_branco_negativo', 'pgm')"
      ],
      "metadata": {
        "colab": {
          "base_uri": "https://localhost:8080/"
        },
        "id": "XnVXPLKapLLc",
        "outputId": "320c63c6-48e3-4709-f04e-602c1c1c2b35"
      },
      "execution_count": null,
      "outputs": [
        {
          "output_type": "stream",
          "name": "stderr",
          "text": [
            "/usr/local/lib/python3.7/dist-packages/ipykernel_launcher.py:38: VisibleDeprecationWarning: Creating an ndarray from ragged nested sequences (which is a list-or-tuple of lists-or-tuples-or ndarrays with different lengths or shapes) is deprecated. If you meant to do this, you must specify 'dtype=object' when creating the ndarray.\n",
            "IOPub data rate exceeded.\n",
            "The notebook server will temporarily stop sending output\n",
            "to the client in order to avoid crashing it.\n",
            "To change this limit, set the config variable\n",
            "`--NotebookApp.iopub_data_rate_limit`.\n",
            "\n",
            "Current values:\n",
            "NotebookApp.iopub_data_rate_limit=1000000.0 (bytes/sec)\n",
            "NotebookApp.rate_limit_window=3.0 (secs)\n",
            "\n"
          ]
        }
      ]
    }
  ]
}