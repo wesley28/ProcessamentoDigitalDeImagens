{
  "nbformat": 4,
  "nbformat_minor": 0,
  "metadata": {
    "colab": {
      "provenance": [],
      "include_colab_link": true
    },
    "kernelspec": {
      "name": "python3",
      "display_name": "Python 3"
    },
    "language_info": {
      "name": "python"
    }
  },
  "cells": [
    {
      "cell_type": "markdown",
      "metadata": {
        "id": "view-in-github",
        "colab_type": "text"
      },
      "source": [
        "<a href=\"https://colab.research.google.com/github/wesley28/ProcessamentoDigitalDeImagens/blob/main/08)_Separa%C3%A7%C3%A3o_de_canais_de_cores_em_Imagens_Coloridas_(tipo_PGM).ipynb\" target=\"_parent\"><img src=\"https://colab.research.google.com/assets/colab-badge.svg\" alt=\"Open In Colab\"/></a>"
      ]
    },
    {
      "cell_type": "code",
      "execution_count": null,
      "metadata": {
        "id": "DskV-Gi1CEWm"
      },
      "outputs": [],
      "source": [
        "import random\n",
        "import numpy as np\n",
        "import math\n",
        "from collections import Counter\n",
        "\n",
        "\n",
        "class ImagemBPM:\n",
        "\n",
        "  def __init__(self, tipo='', largura=0, altura=0, valor_maximo = 1, colorido=False):\n",
        "    self.tipo = tipo\n",
        "    self.largura = largura\n",
        "    self.altura = altura\n",
        "    self.valor_maximo = valor_maximo\n",
        "    self.colorido = colorido\n",
        "\n",
        "\n",
        "  def _read(self, path):\n",
        "    return open(path, \"r\").read().split('\\n')\n",
        "\n",
        "\n",
        "  def extrair_imagem(self, path, default_rgb = 0):\n",
        "    ls_imagem = self._read(path)\n",
        "\n",
        "    if self.colorido:\n",
        "      self.tipo = ls_imagem[0]\n",
        "      self.largura = int(ls_imagem[2].split()[0])\n",
        "      self.altura = int(ls_imagem[2].split()[1])\n",
        "      self.valor_maximo = int(ls_imagem[3])\n",
        "\n",
        "      conteudo = ls_imagem[5:]\n",
        "      conteudo = [i.split(' ') for i in conteudo]\n",
        "      np_conteudo = np.array(conteudo)\n",
        "      np_conteudo = np.concatenate(np_conteudo)\n",
        "      np_conteudo = np.delete(np_conteudo, np.where(np_conteudo == ''))\n",
        "      self.conteudo = [int(i) for i in np_conteudo]\n",
        "\n",
        "      lista_rgb = {\n",
        "          'red': np.array([]),\n",
        "          'green': np.array([]),\n",
        "          'blue': np.array([])\n",
        "      }\n",
        "\n",
        "      lista_rgb['red'] = np.array([self.conteudo[i] if i % 3 == 0 else default_rgb for i in range(len(self.conteudo))])\n",
        "      lista_rgb['green'] = np.array([self.conteudo[i] if i % 3 == 1 else default_rgb for i in range(len(self.conteudo))])\n",
        "      lista_rgb['blue'] = np.array([self.conteudo[i] if i % 3 == 2 else default_rgb for i in range(len(self.conteudo))])\n",
        "      self.lista_rgb = lista_rgb\n",
        "\n",
        "    else:\n",
        "      self.tipo = ls_imagem[0]\n",
        "      self.largura = int(ls_imagem[1].split()[0])\n",
        "      self.altura = int(ls_imagem[1].split()[1])\n",
        "      self.valor_maximo = int(ls_imagem[2])\n",
        "      self.conteudo = np.array([int(i) if i != '' else 0 for i in ls_imagem[2 : self.altura * self.largura + 2]])\n",
        "\n",
        "\n",
        "  def compactar(self, fator):\n",
        "    assert self.altura % fator == 0, 'O fator de compactação precisa ser múltiplo da altura'\n",
        "    assert self.largura % fator == 0, 'O fator de compactação precisa ser múltiplo da largura'\n",
        "\n",
        "    self.fator = fator\n",
        "    self.nova_altura = int(self.altura / self.fator)\n",
        "    self.nova_largura = int(self.largura / self.fator)\n",
        "\n",
        "    rs_conteudo = self.conteudo.reshape(int((self.altura * self.largura) / (self.fator * self.fator)), self.fator * self.fator)\n",
        "\n",
        "    conteudo_compactado = []\n",
        "    for agrupamento in self._gen_agrupamento_pixels(rs_conteudo):\n",
        "      conteudo_compactado.append(agrupamento)\n",
        "\n",
        "    self.conteudo_compactado = conteudo_compactado\n",
        "\n",
        "\n",
        "  def gerar_media_pixels_rgb(self):\n",
        "    self.gerar_media_pixels()\n",
        "    conteudo_media_rgb = np.array(range(self.conteudo_agrupado.shape[0] * 3))\n",
        "    for i in range(len(self.conteudo_agrupado)):\n",
        "      conteudo_media_rgb[3 * i: 3 * i + 3] = self.conteudo_agrupado[i]\n",
        "\n",
        "    self.conteudo_media_rgb = conteudo_media_rgb\n",
        "\n",
        "\n",
        "  def gerar_media_pixels(self, escala_cinza=False):\n",
        "    np_array = np.array(self.conteudo)\n",
        "    np_array_reshape = np_array.reshape(np_array.shape[0] // 3, 3)\n",
        "    conteudo_agrupado = []\n",
        "    for agrupamento in self._gen_agrupamento_pixels(np_array_reshape):\n",
        "      conteudo_agrupado.append(agrupamento)\n",
        "\n",
        "    self.conteudo_agrupado = np.array(conteudo_agrupado)\n",
        "\n",
        "    if escala_cinza:\n",
        "      self.tipo = 'P2'\n",
        "\n",
        "\n",
        "  def _gen_agrupamento_pixels(self, ls_conteudo):\n",
        "    for valores in ls_conteudo:\n",
        "      #yield max(valores)\n",
        "      #yield min(valores)\n",
        "      yield round(sum(valores) / len(valores))\n",
        "      #c = Counter(valores)\n",
        "      #yield c.most_common(1)[0][0]\n",
        "\n",
        "\n",
        "  def redimensionar(self, nv_largura, nv_altura):\n",
        "    self.nv_largura = nv_largura\n",
        "    self.nv_altura = nv_altura\n",
        "    matriz_conteudo = self.conteudo.reshape(self.largura, self.altura)\n",
        "    matriz_conteudo_copia = matriz_conteudo.copy()\n",
        "\n",
        "    diff_largura = nv_largura - self.largura\n",
        "    if diff_largura != 0:\n",
        "      lt_linhas = list(range(self.largura))\n",
        "      random.shuffle(lt_linhas)\n",
        "\n",
        "      if diff_largura > 0:\n",
        "        linhas_add = lt_linhas[:diff_largura]\n",
        "        for id in linhas_add:\n",
        "          matriz_conteudo_copia = np.insert(matriz_conteudo_copia, self.largura * id, matriz_conteudo[id, :])\n",
        "\n",
        "      else:\n",
        "        linhas_rmv = lt_linhas[diff_largura:]\n",
        "        index_rmv = []\n",
        "        for row in linhas_rmv:\n",
        "          index_rmv.append([i for i in range(row * self.largura, (row + 1) * self.largura)])\n",
        "        index_rmv = list(np.concatenate(index_rmv).flat)\n",
        "        matriz_conteudo_copia = np.delete(matriz_conteudo_copia, index_rmv)\n",
        "\n",
        "      matriz_conteudo_copia = matriz_conteudo_copia.reshape(nv_largura, self.altura)\n",
        "      self.conteudo_redimensionado = matriz_conteudo_copia.flatten()\n",
        "\n",
        "    matriz_conteudo_copia2 = matriz_conteudo_copia.copy()\n",
        "    diff_altura = nv_altura - self.altura\n",
        "    if diff_altura != 0:\n",
        "      lt_colunas = list(range(self.altura))\n",
        "      random.shuffle(lt_colunas)\n",
        "      if diff_altura > 0:\n",
        "        colunas_add = lt_colunas[:diff_altura]\n",
        "\n",
        "        for id in colunas_add:\n",
        "          matriz_conteudo_copia2 = np.insert(matriz_conteudo_copia2, self.altura * id, matriz_conteudo_copia[:, id])\n",
        "\n",
        "        self.conteudo_redimensionado = matriz_conteudo_copia2\n",
        "\n",
        "      else:\n",
        "        colunas_rmv = lt_colunas[diff_altura:]\n",
        "        index_rmv = []\n",
        "        for col in colunas_rmv:\n",
        "          index_rmv.append([i for i in range(col * self.nv_largura, (col + 1) * self.nv_largura)])\n",
        "        index_rmv = list(np.concatenate(index_rmv).flat)\n",
        "        matriz_conteudo_copia2 = np.delete(matriz_conteudo_copia2, index_rmv)\n",
        "\n",
        "      self.conteudo_redimensionado = matriz_conteudo_copia2.flatten()\n",
        "\n",
        "\n",
        "\n",
        "  def _gerar_cabecalho(self):\n",
        "    return '{}\\n{} {}\\n {}\\n'.format(self.tipo, self.largura, self.altura, self.valor_maximo)\n",
        "\n",
        "\n",
        "  def salvar_imagem(self, nome, formato):\n",
        "    with open('{}.{}'.format(nome, formato), 'w') as fd:\n",
        "      fd.write(self.imagem)\n",
        "\n",
        "\n",
        "  def salvar_imagem_rgb(self, nome, formato):\n",
        "    with open('{}.{}'.format(nome+'_red', formato), 'w') as fd:\n",
        "      fd.write(self.imagem_red)\n",
        "\n",
        "    with open('{}.{}'.format(nome+'_green', formato), 'w') as fd:\n",
        "      fd.write(self.imagem_green)\n",
        "\n",
        "    with open('{}.{}'.format(nome+'_blue', formato), 'w') as fd:\n",
        "      fd.write(self.imagem_blue)\n",
        "\n",
        "\n",
        "  def gerar_imagem(self, colorido = False, random = True, compactado = False, redimensionar = False, gerar_rgb = False, media_escala_cinza = False, media_rgb=False):\n",
        "\n",
        "    if random:\n",
        "      cabecalho = self._gerar_cabecalho()\n",
        "      matriz = '\\n'.join([' '.join([str(random.randint(0, self.valor_maximo)) for _ in range(self.altura * 3 if colorido else self.altura)]) for _ in range(self.largura)])\n",
        "      self.imagem = cabecalho + matriz\n",
        "\n",
        "    elif compactado:\n",
        "      self.imagem = '{} \\n{} {} \\n{} \\n{}'.format(\n",
        "          self.tipo, self.nova_largura, self.nova_altura, self.valor_maximo,\n",
        "          '\\n'.join([str(i) + ' ' for i in self.conteudo_compactado]))\n",
        "\n",
        "    elif redimensionar:\n",
        "      self.imagem = '{}\\n{} {}\\n{}'.format(\n",
        "          self.tipo, self.nv_largura, self.nv_altura,\n",
        "          '\\n'.join([str(i) for i in self.conteudo_redimensionado.tolist()]))\n",
        "\n",
        "    elif gerar_rgb:\n",
        "      self.imagem_red = '{}\\n{} {}\\n{}\\n{}'.format(\n",
        "          self.tipo, self.largura, self.altura, self.valor_maximo,\n",
        "          '\\n'.join([str(i) for i in self.lista_rgb['red'].tolist()]))\n",
        "      self.imagem_green = '{}\\n{} {}\\n{}\\n{}'.format(\n",
        "          self.tipo, self.largura, self.altura, self.valor_maximo,\n",
        "          '\\n'.join([str(i) for i in self.lista_rgb['green'].tolist()]))\n",
        "      self.imagem_blue = '{}\\n{} {}\\n{}\\n{}'.format(\n",
        "          self.tipo, self.largura, self.altura, self.valor_maximo,\n",
        "          '\\n'.join([str(i) for i in self.lista_rgb['blue'].tolist()]))\n",
        "\n",
        "    elif media_escala_cinza:\n",
        "      self.imagem = '{}\\n{} {}\\n{}\\n{}'.format(\n",
        "          self.tipo, self.largura, self.altura, self.valor_maximo,\n",
        "          '\\n'.join([str(i) for i in self.conteudo_agrupado.tolist()]))\n",
        "\n",
        "    elif media_rgb:\n",
        "      self.imagem = '{}\\n{} {}\\n{}\\n{}'.format(\n",
        "          self.tipo, self.largura, self.altura, self.valor_maximo,\n",
        "          '\\n'.join([str(i) for i in self.conteudo_media_rgb.tolist()]))\n",
        "\n",
        "    else:\n",
        "      self.imagem = '{}\\n{} {}\\n{}'.format(\n",
        "          self.tipo, self.largura, self.altura,\n",
        "          '\\n'.join([str(i) for i in self.conteudo.tolist()]))\n",
        ""
      ]
    },
    {
      "cell_type": "code",
      "source": [
        "t1 = ImagemBPM()\n",
        "t1.extrair_imagem(\"/content/Entrada_EscalaCinza.txt\")\n",
        "t1.compactar(4)\n",
        "t1.gerar_imagem(random=False, compactado=True)\n",
        "t1.salvar_imagem('img_cinza_comp_min', 'pgm')\n",
        "print(t1.nova_altura, t1.nova_largura, t1.tipo, len(t1.conteudo_compactado))\n",
        "#len(t1.conteudo_compactado)\n",
        "\n",
        "#assert t1.altura % 11 == 0, 'O fator de compactação precisa ser múltiplo da altura'"
      ],
      "metadata": {
        "id": "M2zh-1aonjVO"
      },
      "execution_count": null,
      "outputs": []
    },
    {
      "cell_type": "code",
      "source": [
        "t1 = ImagemBPM()\n",
        "t1.extrair_imagem(\"/content/Entrada_EscalaCinza.txt\")\n",
        "t1.redimensionar(480, 320)\n",
        "#t1.compactar(4)\n",
        "t1.gerar_imagem(random=False, compactado=False, redimensionar=True)\n",
        "t1.salvar_imagem('img_cinza_480_320', 'pgm')\n",
        "#print(t1.nova_altura, t1.nova_largura, t1.tipo, len(t1.conteudo_compactado))\n",
        "#len(t1.conteudo_compactado)\n",
        "\n",
        "#assert t1.altura % 11 == 0, 'O fator de compactação precisa ser múltiplo da altura'"
      ],
      "metadata": {
        "id": "O-cwBAs0RI7L"
      },
      "execution_count": null,
      "outputs": []
    },
    {
      "cell_type": "code",
      "source": [
        "t1 = ImagemBPM()\n",
        "t1.extrair_imagem(\"/content/Entrada_EscalaCinza.txt\")\n",
        "t1.redimensionar(1280, 720)\n",
        "t1.gerar_imagem(random=False, compactado=False, redimensionar=True)\n",
        "t1.salvar_imagem('img_cinza_1280_720', 'pgm')"
      ],
      "metadata": {
        "id": "XKnHflLg3QEU"
      },
      "execution_count": null,
      "outputs": []
    },
    {
      "cell_type": "code",
      "source": [
        "t1 = ImagemBPM()\n",
        "t1.extrair_imagem(\"/content/Entrada_EscalaCinza.txt\")\n",
        "t1.redimensionar(1920, 1080)\n",
        "t1.gerar_imagem(random=False, compactado=False, redimensionar=True)\n",
        "t1.salvar_imagem('img_cinza_1920_1080', 'pgm')"
      ],
      "metadata": {
        "id": "JqrT50vy3hRk"
      },
      "execution_count": null,
      "outputs": []
    },
    {
      "cell_type": "code",
      "source": [
        "t1 = ImagemBPM(colorido=True)\n",
        "t1.extrair_imagem(\"/content/Entrada_RGB.txt\")\n",
        "t1.compactar(4)\n",
        "t1.gerar_imagem(random=False, compactado=True)\n",
        "t1.salvar_imagem('img_rgb_comp_media', 'pgm')\n",
        "print(t1.nova_altura, t1.nova_largura, t1.tipo, len(t1.conteudo_compactado))\n",
        "#len(t1.conteudo_compactado)\n",
        "\n",
        "#assert t1.altura % 11 == 0, 'O fator de compactação precisa ser múltiplo da altura'"
      ],
      "metadata": {
        "id": "q8WnEt0DhA_Z"
      },
      "execution_count": null,
      "outputs": []
    },
    {
      "cell_type": "code",
      "source": [
        "t1 = ImagemBPM(colorido=True)\n",
        "t1.extrair_imagem(\"/content/Entrada_RGB.txt\")\n",
        "t1.redimensionar(799, 799)\n",
        "t1.gerar_imagem(random=False, compactado=False, redimensionar=True)\n",
        "t1.salvar_imagem('img_rgb_480_320', 'pgm')"
      ],
      "metadata": {
        "id": "i_wYL7Z-xGdX"
      },
      "execution_count": null,
      "outputs": []
    },
    {
      "cell_type": "markdown",
      "source": [
        "## Segmentacao RGB"
      ],
      "metadata": {
        "id": "eaZoKgncD-Am"
      }
    },
    {
      "cell_type": "code",
      "source": [
        "t1 = ImagemBPM(colorido=True)\n",
        "t1.extrair_imagem(\"/content/Fig1.txt\")\n",
        "t1.gerar_imagem(random=False, gerar_rgb=True)\n",
        "t1.salvar_imagem_rgb('fig1_segmentacao_rgb', 'pgm')"
      ],
      "metadata": {
        "id": "dpjZQeu2D9EJ"
      },
      "execution_count": null,
      "outputs": []
    },
    {
      "cell_type": "code",
      "source": [
        "t1 = ImagemBPM(colorido=True)\n",
        "t1.extrair_imagem(\"/content/Fig1.txt\", default_rgb=255)\n",
        "t1.gerar_imagem(random=False, gerar_rgb=True)\n",
        "t1.salvar_imagem_rgb('fig1_segmentacao_rgb_max', 'pgm')"
      ],
      "metadata": {
        "id": "U-Vi0n-jAFNx"
      },
      "execution_count": null,
      "outputs": []
    },
    {
      "cell_type": "code",
      "source": [
        "t1 = ImagemBPM(colorido=True)\n",
        "t1.extrair_imagem(\"/content/Fig1.txt\")\n",
        "t1.gerar_media_pixels(escala_cinza=True)\n",
        "t1.gerar_imagem(random=False, media_escala_cinza=True)\n",
        "t1.salvar_imagem('fig1_media_escala_cinza', 'pgm')"
      ],
      "metadata": {
        "id": "aoSJPTpN8utq"
      },
      "execution_count": null,
      "outputs": []
    },
    {
      "cell_type": "code",
      "source": [
        "t1 = ImagemBPM(colorido=True)\n",
        "t1.extrair_imagem(\"/content/Fig1.txt\")\n",
        "t1.gerar_media_pixels_rgb()\n",
        "t1.gerar_imagem(random=False, media_rgb=True)\n",
        "t1.salvar_imagem('fig1_media_rgb', 'pgm')"
      ],
      "metadata": {
        "id": "2ahpbmBzwwZx"
      },
      "execution_count": null,
      "outputs": []
    },
    {
      "cell_type": "code",
      "source": [
        "t1 = ImagemBPM(colorido=True)\n",
        "t1.extrair_imagem(\"/content/Fig4.txt\")\n",
        "t1.gerar_imagem(random=False, gerar_rgb=True)\n",
        "t1.salvar_imagem_rgb('Fig4_segmentacao_rgb', 'pgm')"
      ],
      "metadata": {
        "id": "-nb-08_VO4Yp"
      },
      "execution_count": null,
      "outputs": []
    },
    {
      "cell_type": "code",
      "source": [
        "t1 = ImagemBPM(colorido=True)\n",
        "t1.extrair_imagem(\"/content/Fig4.txt\", default_rgb=255)\n",
        "t1.gerar_imagem(random=False, gerar_rgb=True)\n",
        "t1.salvar_imagem_rgb('Fig4_segmentacao_rgb_max', 'pgm')"
      ],
      "metadata": {
        "id": "gYFP35CSBSeV"
      },
      "execution_count": null,
      "outputs": []
    },
    {
      "cell_type": "code",
      "source": [
        "t1 = ImagemBPM(colorido=True)\n",
        "t1.extrair_imagem(\"/content/Fig4.txt\")\n",
        "t1.gerar_media_pixels(escala_cinza=True)\n",
        "t1.gerar_imagem(random=False, media_escala_cinza=True)\n",
        "t1.salvar_imagem('Fig4_media_escala_cinza', 'pgm')"
      ],
      "metadata": {
        "id": "AaZjRPni9Wha"
      },
      "execution_count": null,
      "outputs": []
    },
    {
      "cell_type": "code",
      "source": [
        "t1 = ImagemBPM(colorido=True)\n",
        "t1.extrair_imagem(\"/content/Fig4.txt\")\n",
        "t1.gerar_media_pixels_rgb()\n",
        "t1.gerar_imagem(random=False, media_rgb=True)\n",
        "t1.salvar_imagem('Fig4_media_rgb', 'pgm')"
      ],
      "metadata": {
        "id": "jUE0bH6M9aqQ"
      },
      "execution_count": null,
      "outputs": []
    }
  ]
}