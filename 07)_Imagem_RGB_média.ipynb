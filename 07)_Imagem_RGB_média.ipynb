{
  "nbformat": 4,
  "nbformat_minor": 0,
  "metadata": {
    "colab": {
      "provenance": [],
      "include_colab_link": true
    },
    "kernelspec": {
      "name": "python3",
      "display_name": "Python 3"
    },
    "language_info": {
      "name": "python"
    }
  },
  "cells": [
    {
      "cell_type": "markdown",
      "metadata": {
        "id": "view-in-github",
        "colab_type": "text"
      },
      "source": [
        "<a href=\"https://colab.research.google.com/github/wesley28/ProcessamentoDigitalDeImagens/blob/main/07)_Imagem_RGB_m%C3%A9dia.ipynb\" target=\"_parent\"><img src=\"https://colab.research.google.com/assets/colab-badge.svg\" alt=\"Open In Colab\"/></a>"
      ]
    },
    {
      "cell_type": "code",
      "execution_count": 14,
      "metadata": {
        "id": "DskV-Gi1CEWm"
      },
      "outputs": [],
      "source": [
        "import random\n",
        "import numpy as np\n",
        "import math\n",
        "from collections import Counter\n",
        "\n",
        "\n",
        "class ImagemBPM:\n",
        "\n",
        "  def __init__(self, tipo='', largura=0, altura=0, valor_maximo = 1, colorido=False):\n",
        "    self.tipo = tipo\n",
        "    self.largura = largura\n",
        "    self.altura = altura\n",
        "    self.valor_maximo = valor_maximo\n",
        "    self.colorido = colorido\n",
        "\n",
        "\n",
        "  def _read(self, path):\n",
        "    return open(path, \"r\").read().split('\\n')\n",
        "\n",
        "\n",
        "  def extrair_imagem(self, path, default_rgb = 0):\n",
        "    ls_imagem = self._read(path)\n",
        "\n",
        "    if self.colorido:\n",
        "      self.tipo = ls_imagem[0]\n",
        "      self.largura = int(ls_imagem[2].split()[0])\n",
        "      self.altura = int(ls_imagem[2].split()[1])\n",
        "      self.valor_maximo = int(ls_imagem[3])\n",
        "\n",
        "      conteudo = ls_imagem[5:]\n",
        "      conteudo = [i.split(' ') for i in conteudo]\n",
        "      np_conteudo = np.array(conteudo)\n",
        "      np_conteudo = np.concatenate(np_conteudo)\n",
        "      np_conteudo = np.delete(np_conteudo, np.where(np_conteudo == ''))\n",
        "      self.conteudo = [int(i) for i in np_conteudo]\n",
        "\n",
        "    else:\n",
        "      self.tipo = ls_imagem[0]\n",
        "      self.largura = int(ls_imagem[1].split()[0])\n",
        "      self.altura = int(ls_imagem[1].split()[1])\n",
        "      self.valor_maximo = int(ls_imagem[2])\n",
        "      self.conteudo = np.array([int(i) if i != '' else 0 for i in ls_imagem[2 : self.altura * self.largura + 2]])\n",
        "\n",
        "  def gerar_media_pixels_rgb(self):\n",
        "    self.gerar_media_pixels()\n",
        "    conteudo_media_rgb = np.array(range(self.conteudo_agrupado.shape[0] * 3))\n",
        "    for i in range(len(self.conteudo_agrupado)):\n",
        "      conteudo_media_rgb[3 * i: 3 * i + 3] = self.conteudo_agrupado[i]\n",
        "\n",
        "    self.conteudo_media_rgb = conteudo_media_rgb\n",
        "\n",
        "\n",
        "  def gerar_media_pixels(self, escala_cinza=False):\n",
        "    np_array = np.array(self.conteudo)\n",
        "    np_array_reshape = np.array.reshape(np_array, (np_array.shape[0] // 3, 3))\n",
        "    conteudo_agrupado = []\n",
        "    for agrupamento in self._gen_agrupamento_pixels(np_array_reshape):\n",
        "      conteudo_agrupado.append(agrupamento)\n",
        "\n",
        "    self.conteudo_agrupado = np.array(conteudo_agrupado)\n",
        "\n",
        "    if escala_cinza:\n",
        "      self.tipo = 'P2'\n",
        "\n",
        "  def redimensionar(self, nv_largura, nv_altura):\n",
        "    self.nv_largura = nv_largura\n",
        "    self.nv_altura = nv_altura\n",
        "    matriz_conteudo = self.conteudo.reshape(self.largura, self.altura)\n"
      ]
    },
    {
      "cell_type": "markdown",
      "source": [
        "# Imagem RGB - média\n"
      ],
      "metadata": {
        "id": "fkkEscQiAVm9"
      }
    },
    {
      "cell_type": "code",
      "source": [
        "t1 = ImagemBPM(colorido=True)\n",
        "t1.extrair_imagem(\"/content/Fig1.ppm\")\n",
        "t1.gerar_media_pixels(escala_cinza=True)\n",
        "t1.gerar_imagem(random=False, media_escala_cinza=True)\n",
        "t1.salvar_imagem('fig1_media_escala_cinza', 'pgm')"
      ],
      "metadata": {
        "id": "aoSJPTpN8utq"
      },
      "execution_count": null,
      "outputs": []
    },
    {
      "cell_type": "code",
      "source": [
        "t1 = ImagemBPM(colorido=True)\n",
        "t1.extrair_imagem(\"/content/Fig1.ppm\")\n",
        "t1.gerar_media_pixels_rgb()\n",
        "t1.gerar_imagem(random=False, media_rgb=True)\n",
        "t1.salvar_imagem('fig1_media_rgb', 'pgm')"
      ],
      "metadata": {
        "id": "2ahpbmBzwwZx"
      },
      "execution_count": 3,
      "outputs": []
    }
  ]
}