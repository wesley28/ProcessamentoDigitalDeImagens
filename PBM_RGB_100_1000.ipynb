{
  "nbformat": 4,
  "nbformat_minor": 0,
  "metadata": {
    "colab": {
      "provenance": [],
      "include_colab_link": true
    },
    "kernelspec": {
      "name": "python3",
      "display_name": "Python 3"
    },
    "language_info": {
      "name": "python"
    }
  },
  "cells": [
    {
      "cell_type": "markdown",
      "metadata": {
        "id": "view-in-github",
        "colab_type": "text"
      },
      "source": [
        "<a href=\"https://colab.research.google.com/github/wesley28/ProcessamentoDigitalDeImagens/blob/main/PBM_RGB_100_1000.ipynb\" target=\"_parent\"><img src=\"https://colab.research.google.com/assets/colab-badge.svg\" alt=\"Open In Colab\"/></a>"
      ]
    },
    {
      "cell_type": "code",
      "source": [
        "# Gerar imagem de tamanho 100x100 pixels do tipo PBM (colorido rgb) – tipo P3(ASCII), com valores aleatórios, com 16 intesidades.\n",
        "\n",
        "import random\n",
        "\n",
        "class ImagemBPM:\n",
        "\n",
        "  def __init__(self, tipo, altura, largura, intensidades):\n",
        "    self.tipo = tipo\n",
        "    self.altura = altura\n",
        "    self.largura = largura\n",
        "    self.intensidades = intensidades\n",
        "\n",
        "  def gerar_imagem(self):\n",
        "    imagem = \"\"\n",
        "    for linha in range(self.altura):\n",
        "      for coluna in range(self.largura):\n",
        "        imagem += str(random.randint(0, self.intensidades - 1))\n",
        "      imagem += \"\\n\"\n",
        "    return imagem\n",
        "\n",
        "  def salvar_imagem(self, nome):\n",
        "    with open('{}.pbm'.format(nome), 'w') as fd:\n",
        "      fd.write(self.gerar_imagem())\n",
        "\n",
        "\n",
        "\n"
      ],
      "metadata": {
        "id": "mobrf1sPDuCq"
      },
      "execution_count": 7,
      "outputs": []
    },
    {
      "cell_type": "code",
      "source": [
        "# Gerar imagem de tamanho 100x100 pixels do tipo PBM (colorido rgb) – tipo P3(ASCII), com valores aleatórios, com 16 intesidades.\n",
        "\n",
        "imagem = ImagemBPM('P3', 100, 100, 16)\n",
        "imagem.salvar_imagem('imagem_100_RGB')"
      ],
      "metadata": {
        "id": "NAfqulv2HDh7"
      },
      "execution_count": null,
      "outputs": []
    },
    {
      "cell_type": "code",
      "source": [
        "# Gerar imagem de tamanho 1000x1000 pixels do tipo PBM (colorido rgb) – tipo P3(ASCII), com valores aleatórios, com 256 intensidades.\n",
        "imagem = ImagemBPM('P3', 1000, 1000, 256)\n",
        "imagem.salvar_imagem('imagem_1000_RGB')"
      ],
      "metadata": {
        "id": "bkc5BQ8pHE_p"
      },
      "execution_count": null,
      "outputs": []
    }
  ]
}