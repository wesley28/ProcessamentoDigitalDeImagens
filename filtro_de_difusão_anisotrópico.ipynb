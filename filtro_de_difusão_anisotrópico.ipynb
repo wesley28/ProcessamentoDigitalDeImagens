{
  "nbformat": 4,
  "nbformat_minor": 0,
  "metadata": {
    "colab": {
      "provenance": [],
      "authorship_tag": "ABX9TyPL+3+25lccGQXNwQiUJVw7",
      "include_colab_link": true
    },
    "kernelspec": {
      "name": "python3",
      "display_name": "Python 3"
    },
    "language_info": {
      "name": "python"
    }
  },
  "cells": [
    {
      "cell_type": "markdown",
      "metadata": {
        "id": "view-in-github",
        "colab_type": "text"
      },
      "source": [
        "<a href=\"https://colab.research.google.com/github/wesley28/ProcessamentoDigitalDeImagens/blob/main/filtro_de_difus%C3%A3o_anisotr%C3%B3pico.ipynb\" target=\"_parent\"><img src=\"https://colab.research.google.com/assets/colab-badge.svg\" alt=\"Open In Colab\"/></a>"
      ]
    },
    {
      "cell_type": "code",
      "source": [
        "import numpy as np\n",
        "import cv2\n",
        "\n",
        "def anisodiff(image, lambda_min, lambda_max, iters):\n",
        "  \"\"\"\n",
        "  Aplica o filtro de difusão anisotrópico de Weickert à imagem.\n",
        "\n",
        "  Args:\n",
        "    image: A imagem a ser filtrada.\n",
        "    lambda_min: O valor mínimo de lambda.\n",
        "    lambda_max: O valor máximo de lambda.\n",
        "    iters: O número de iterações.\n",
        "  \"\"\"\n",
        "\n",
        "  # Calcula o mapa de gradientes da imagem.\n",
        "  grad_x = np.zeros_like(image)\n",
        "  grad_y = np.zeros_like(image)\n",
        "  for i in range(image.shape[0] - 1):\n",
        "    for j in range(image.shape[1] - 1):\n",
        "      grad_x[i, j] = image[i + 1, j] - image[i, j]\n",
        "      grad_y[i, j] = image[i, j + 1] - image[i, j]\n",
        "\n",
        "  # Aplica o filtro de difusão anisotrópico.\n",
        "  filtered_image = image.copy()\n",
        "  for i in range(iters):\n",
        "    lambda_ = (lambda_max - lambda_min) * i / (iters - 5) + lambda_min\n",
        "    filtered_image = filtered_image + lambda_ * (grad_x * grad_x) * grad_x - 2 * lambda_ * grad_x * grad_y\n",
        "\n",
        "  return filtered_image"
      ],
      "metadata": {
        "id": "lEMwFa8akALY"
      },
      "execution_count": 14,
      "outputs": []
    },
    {
      "cell_type": "code",
      "source": [
        "image = cv2.imread(\"/content/Tigre.jpg\")\n",
        "\n",
        "cv2.imwrite(\"./Tigrecansado.jpg\", filtered_image)\n"
      ],
      "metadata": {
        "colab": {
          "base_uri": "https://localhost:8080/"
        },
        "id": "N5kIcTyW5Ukj",
        "outputId": "f483a03e-1c99-42ec-b84e-b64eb632fe49"
      },
      "execution_count": 17,
      "outputs": [
        {
          "output_type": "execute_result",
          "data": {
            "text/plain": [
              "True"
            ]
          },
          "metadata": {},
          "execution_count": 17
        }
      ]
    }
  ]
}