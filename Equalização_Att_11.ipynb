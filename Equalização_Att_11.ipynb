{
  "nbformat": 4,
  "nbformat_minor": 0,
  "metadata": {
    "colab": {
      "provenance": [],
      "include_colab_link": true
    },
    "kernelspec": {
      "name": "python3",
      "display_name": "Python 3"
    },
    "language_info": {
      "name": "python"
    }
  },
  "cells": [
    {
      "cell_type": "markdown",
      "metadata": {
        "id": "view-in-github",
        "colab_type": "text"
      },
      "source": [
        "<a href=\"https://colab.research.google.com/github/wesley28/ProcessamentoDigitalDeImagens/blob/main/Equaliza%C3%A7%C3%A3o_Att_11.ipynb\" target=\"_parent\"><img src=\"https://colab.research.google.com/assets/colab-badge.svg\" alt=\"Open In Colab\"/></a>"
      ]
    },
    {
      "cell_type": "code",
      "source": [
        "import numpy as np\n",
        "from PIL import Image\n",
        "\n",
        "\n",
        "class EqulizacaoHistograma:\n",
        "\n",
        "\n",
        "  def __init__(self, path):\n",
        "    self.path = path\n",
        "\n",
        "\n",
        "  def read_image(self):\n",
        "    im = Image.open(self.path)\n",
        "    self.image = np.array(im)\n",
        "\n",
        "\n",
        "  def save_image(self, file_name, image):\n",
        "    image = Image.fromarray(image)\n",
        "    image.save('{}.jpeg'.format(file_name))\n",
        "\n",
        "\n",
        "  def _valor_equalizado(self, index):\n",
        "    if index == 0:\n",
        "      return self.L * (self.dct_counts[index] / self.MN)\n",
        "\n",
        "    else:\n",
        "      return self.L * (self.dct_counts[index] / self.MN) + self._valor_equalizado(index-1)\n",
        "\n",
        "\n",
        "  def _frequency_pixel(self):\n",
        "    unique, counts = np.unique(self.image, return_counts=True)\n",
        "    return unique, counts\n",
        "\n",
        "\n",
        "  def _generate_dct(self, values):\n",
        "    dct = {}\n",
        "    for i, value in enumerate(values):\n",
        "      dct[i] = value\n",
        "\n",
        "    return dct\n",
        "\n",
        "\n",
        "  def equalizacao_histograma(self, name):\n",
        "    self.MN = self.image.shape[0] * self.image.shape[1]\n",
        "    self.L = 255\n",
        "    unique, counts = self._frequency_pixel()\n",
        "    self.dct_counts = self._generate_dct(counts)\n",
        "    dct_equalized_values = {}\n",
        "    for i in range(len(self.dct_counts)):\n",
        "      dct_equalized_values[unique[i]] = round(self._valor_equalizado(i))\n",
        "\n",
        "    self.dct_equalized_values = dct_equalized_values\n",
        "    lt_values = [j for i in eh.image.reshape(250000, 1).tolist() for j in i]\n",
        "    lt_normalizad_values = np.array([dct_equalized_values[value] for value in lt_values], dtype='uint8')\n",
        "    self.normalized_image = lt_normalizad_values.reshape(self.image.shape[0], self.image.shape[1])\n",
        "    #self.save_image(name+'_original_image', self.image)\n",
        "    self.save_image(name+'_normalized_image', self.normalized_image)\n",
        "\n"
      ],
      "metadata": {
        "id": "73FvYkD48bTB"
      },
      "execution_count": null,
      "outputs": []
    },
    {
      "cell_type": "markdown",
      "source": [
        "# **Equalização **"
      ],
      "metadata": {
        "id": "Ne9P_rXamAHL"
      }
    },
    {
      "cell_type": "code",
      "source": [
        "eh = EqulizacaoHistograma('/content/Fig0316(1)(top_left).tif')\n",
        "eh.read_image()\n",
        "eh.equalizacao_histograma('top_left')"
      ],
      "metadata": {
        "id": "CD_gJ00YLMtP"
      },
      "execution_count": null,
      "outputs": []
    },
    {
      "cell_type": "code",
      "source": [
        "eh = EqulizacaoHistograma('/content/Fig0316(2)(2nd_from_top).tif')\n",
        "eh.read_image()\n",
        "eh.equalizacao_histograma('2_from_top')"
      ],
      "metadata": {
        "id": "u2vDMz3i_tyu"
      },
      "execution_count": null,
      "outputs": []
    },
    {
      "cell_type": "code",
      "source": [
        "eh = EqulizacaoHistograma('/content/Fig0316(3)(third_from_top).tif')\n",
        "eh.read_image()\n",
        "eh.equalizacao_histograma('3_from_top')"
      ],
      "metadata": {
        "id": "xC5vcSv6_uUa"
      },
      "execution_count": null,
      "outputs": []
    },
    {
      "cell_type": "code",
      "source": [
        "eh = EqulizacaoHistograma('/content/Fig0316(4)(bottom_left).tif')\n",
        "eh.read_image()\n",
        "eh.equalizacao_histograma('bottom_left')"
      ],
      "metadata": {
        "id": "Ux77ph03_vAq"
      },
      "execution_count": null,
      "outputs": []
    },
    {
      "cell_type": "markdown",
      "source": [
        "# **Histograma**"
      ],
      "metadata": {
        "id": "Xb-1utAXq0Ew"
      }
    },
    {
      "cell_type": "code",
      "source": [
        "def plot_hist(image_name):\n",
        "\n",
        "  import cv2\n",
        "  import matplotlib.pyplot as plt\n",
        "\n",
        "  image = cv2.imread(\"/content/top_left_normalized_image.jpeg\")\n",
        "\n",
        "  gray_image = cv2.cvtColor(image, cv2.COLOR_BGR2GRAY)\n",
        "\n",
        "  hist = cv2.calcHist([gray_image], [0], None, [256], [0, 255])\n",
        "\n",
        "  plt.plot(hist)\n",
        "  plt.xlabel(\"Níveis de cinza\")\n",
        "  plt.ylabel(\"Frequência\")\n",
        "  plt.show()"
      ],
      "metadata": {
        "id": "-H-dB7TZvDuv"
      },
      "execution_count": null,
      "outputs": []
    },
    {
      "cell_type": "code",
      "source": [
        "import numpy as np\n",
        "image = np.random.randint(0, 255, (200, 200, 3))\n",
        "\n",
        "plot_hist(image)"
      ],
      "metadata": {
        "colab": {
          "base_uri": "https://localhost:8080/",
          "height": 449
        },
        "id": "cTodNvPOpuWv",
        "outputId": "4259c7ca-b7e8-4aa8-d5aa-a29916748564"
      },
      "execution_count": null,
      "outputs": [
        {
          "output_type": "display_data",
          "data": {
            "text/plain": [
              "<Figure size 640x480 with 1 Axes>"
            ],
            "image/png": "[encoded data removed]"
          },
          "metadata": {}
        }
      ]
    }
  ]
}